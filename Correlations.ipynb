{
 "cells": [
  {
   "cell_type": "code",
   "execution_count": 44,
   "metadata": {
    "collapsed": false
   },
   "outputs": [],
   "source": [
    "from load import load\n",
    "from matplotlib import pyplot as plt"
   ]
  },
  {
   "cell_type": "code",
   "execution_count": 45,
   "metadata": {
    "collapsed": false
   },
   "outputs": [],
   "source": [
    "train = load('train.csv')"
   ]
  },
  {
   "cell_type": "code",
   "execution_count": 95,
   "metadata": {
    "collapsed": false
   },
   "outputs": [],
   "source": [
    "# Windspeed\n",
    "train.groupby('windspeed').mean().plot(y='count', marker='o')\n",
    "plt.show()"
   ]
  },
  {
   "cell_type": "code",
   "execution_count": 77,
   "metadata": {
    "collapsed": false
   },
   "outputs": [],
   "source": [
    "# Full data plots.\n",
    "plots = ['temp', 'atemp']\n",
    "\n",
    "for plot in plots:\n",
    "    plt.plot_date(train['dates'], train[plot] / train[plot].mean())\n",
    "\n",
    "plt.show()"
   ]
  },
  {
   "cell_type": "code",
   "execution_count": 83,
   "metadata": {
    "collapsed": true
   },
   "outputs": [],
   "source": [
    "# Input dependencies.\n",
    "train.plot(x='temp', y='humidity', kind='scatter')\n",
    "plt.show()"
   ]
  },
  {
   "cell_type": "markdown",
   "metadata": {},
   "source": [
    "Analyze temperature dependence. See how count varies depending on temperature\n",
    "holding all other variables constant"
   ]
  },
  {
   "cell_type": "code",
   "execution_count": 46,
   "metadata": {
    "collapsed": false
   },
   "outputs": [],
   "source": [
    "#train[['temp', 'count']]"
   ]
  },
  {
   "cell_type": "code",
   "execution_count": 103,
   "metadata": {
    "collapsed": false
   },
   "outputs": [
    {
     "name": "stdout",
     "output_type": "stream",
     "text": [
      "Data points: 221\n"
     ]
    }
   ],
   "source": [
    "# Choose a dependency to analyze from the following subset of columns\n",
    "# in the dataset: ('temp', 'humidity', 'weather'). \n",
    "dependency = 'humidity'\n",
    "min_stats = 3\n",
    "\n",
    "# Limit the dependency/correlation analysis to different\n",
    "# slices of the function space by adjusting the following ranges.\n",
    "weather_min = 1\n",
    "weather_max = 1\n",
    "humidity_min = 10.0\n",
    "humidity_max = 100.0\n",
    "temp_min = 25.0\n",
    "temp_max = 35.0\n",
    "hour_min = 10\n",
    "hour_max = 15\n",
    "workingday = 0\n",
    "holiday = 0\n",
    "\n",
    "\n",
    "data = train\n",
    "data = data[data['workingday'] == workingday]   \n",
    "data = data[data['holiday'] == holiday]\n",
    "\n",
    "if holiday == 1:\n",
    "    title = ['Holidays']\n",
    "elif workingday == 1:\n",
    "    title = ['Workdays']\n",
    "else:\n",
    "    title = ['Weekends']\n",
    "\n",
    "data = data[data['hour'] >= hour_min]\n",
    "data = data[data['hour'] <= hour_max]\n",
    "title.append('Hours: %d-%d' % (hour_min, hour_max))\n",
    "\n",
    "if dependency != 'weather':\n",
    "    title.append('Weather range: %d-%d' % (weather_min, weather_max))\n",
    "    data = data[data['weather'] >= weather_min]\n",
    "    data = data[data['weather'] <= weather_max]\n",
    "\n",
    "if dependency != 'temp':\n",
    "    title.append('Temp range (C): %.1f-%.1f' % (temp_min, temp_max))\n",
    "    data = data[data['temp'] >= temp_min]\n",
    "    data = data[data['temp'] <= temp_max]\n",
    "\n",
    "if dependency != 'humidity':\n",
    "    title.append('Humidity range (%%): %.1f-%.1f' % (humidity_min, humidity_max))\n",
    "    if humidity_min is not None:\n",
    "        data = data[data['humidity'] >= humidity_min]\n",
    "    if humidity_max is not None:\n",
    "        data = data[data['humidity'] <= humidity_max]\n",
    "\n",
    "print 'Data points:', len(data)\n",
    "if len(data) > min_stats:\n",
    "    data.plot(x=dependency, y='count', kind='scatter', title=', '.join(title), ax=plt.gca())\n",
    "else:\n",
    "    print 'Not enough statistics!'\n",
    "    \n",
    "plt.show()"
   ]
  },
  {
   "cell_type": "code",
   "execution_count": 99,
   "metadata": {
    "collapsed": false
   },
   "outputs": [
    {
     "data": {
      "text/plain": [
       "Index([u'datetime', u'season', u'holiday', u'workingday', u'weather', u'temp', u'atemp', u'humidity', u'windspeed', u'casual', u'registered', u'count', u'dates', u'hour', u'day', u'month', u'monthday', u'dayage', u'hourage', u'weekage', u'age_seconds'], dtype='object')"
      ]
     },
     "execution_count": 99,
     "metadata": {},
     "output_type": "execute_result"
    }
   ],
   "source": [
    "train.columns"
   ]
  },
  {
   "cell_type": "code",
   "execution_count": 12,
   "metadata": {
    "collapsed": false
   },
   "outputs": [
    {
     "data": {
      "text/html": [
       "<div style=\"max-height:1000px;max-width:1500px;overflow:auto;\">\n",
       "<table border=\"1\" class=\"dataframe\">\n",
       "  <thead>\n",
       "    <tr style=\"text-align: right;\">\n",
       "      <th></th>\n",
       "      <th>temp</th>\n",
       "      <th>count</th>\n",
       "      <th>weather</th>\n",
       "      <th>windspeed</th>\n",
       "      <th>dayage</th>\n",
       "    </tr>\n",
       "  </thead>\n",
       "  <tbody>\n",
       "    <tr>\n",
       "      <th>temp</th>\n",
       "      <td>1.000000</td>\n",
       "      <td>0.394454</td>\n",
       "      <td>-0.055035</td>\n",
       "      <td>-0.017852</td>\n",
       "      <td>0.180785</td>\n",
       "    </tr>\n",
       "    <tr>\n",
       "      <th>count</th>\n",
       "      <td>0.394454</td>\n",
       "      <td>1.000000</td>\n",
       "      <td>-0.128655</td>\n",
       "      <td>0.101369</td>\n",
       "      <td>0.309636</td>\n",
       "    </tr>\n",
       "    <tr>\n",
       "      <th>weather</th>\n",
       "      <td>-0.055035</td>\n",
       "      <td>-0.128655</td>\n",
       "      <td>1.000000</td>\n",
       "      <td>0.007261</td>\n",
       "      <td>-0.005017</td>\n",
       "    </tr>\n",
       "    <tr>\n",
       "      <th>windspeed</th>\n",
       "      <td>-0.017852</td>\n",
       "      <td>0.101369</td>\n",
       "      <td>0.007261</td>\n",
       "      <td>1.000000</td>\n",
       "      <td>-0.087088</td>\n",
       "    </tr>\n",
       "    <tr>\n",
       "      <th>dayage</th>\n",
       "      <td>0.180785</td>\n",
       "      <td>0.309636</td>\n",
       "      <td>-0.005017</td>\n",
       "      <td>-0.087088</td>\n",
       "      <td>1.000000</td>\n",
       "    </tr>\n",
       "  </tbody>\n",
       "</table>\n",
       "</div>"
      ],
      "text/plain": [
       "               temp     count   weather  windspeed    dayage\n",
       "temp       1.000000  0.394454 -0.055035  -0.017852  0.180785\n",
       "count      0.394454  1.000000 -0.128655   0.101369  0.309636\n",
       "weather   -0.055035 -0.128655  1.000000   0.007261 -0.005017\n",
       "windspeed -0.017852  0.101369  0.007261   1.000000 -0.087088\n",
       "dayage     0.180785  0.309636 -0.005017  -0.087088  1.000000"
      ]
     },
     "execution_count": 12,
     "metadata": {},
     "output_type": "execute_result"
    }
   ],
   "source": [
    "train[['temp','count','weather','windspeed','dayage']].corr()"
   ]
  },
  {
   "cell_type": "code",
   "execution_count": null,
   "metadata": {
    "collapsed": false
   },
   "outputs": [],
   "source": []
  }
 ],
 "metadata": {
  "kernelspec": {
   "display_name": "Python 2",
   "language": "python",
   "name": "python2"
  },
  "language_info": {
   "codemirror_mode": {
    "name": "ipython",
    "version": 2
   },
   "file_extension": ".py",
   "mimetype": "text/x-python",
   "name": "python",
   "nbconvert_exporter": "python",
   "pygments_lexer": "ipython2",
   "version": "2.7.9"
  }
 },
 "nbformat": 4,
 "nbformat_minor": 0
}
